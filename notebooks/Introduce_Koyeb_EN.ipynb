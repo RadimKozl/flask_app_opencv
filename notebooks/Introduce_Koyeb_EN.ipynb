{
 "cells": [
  {
   "cell_type": "markdown",
   "id": "e2bff7aa-b3d8-44f4-bdcc-51da8ce6d258",
   "metadata": {},
   "source": [
    "<img src=\"img/OpenCV_logo.png\" alt=\"OpenCV logo\" style=\"width: 200px;\"/>"
   ]
  },
  {
   "cell_type": "markdown",
   "id": "3a01facc-a52e-4dc1-a6ad-06dc073edb8e",
   "metadata": {},
   "source": [
    "<font size=\"10\">Koyeb introduction</font>"
   ]
  },
  {
   "cell_type": "markdown",
   "id": "12cb3ec3-f433-44a3-a5f7-40207638cd66",
   "metadata": {},
   "source": [
    "# Introduction\n",
    "\n",
    "Since [Heroku](https://www.heroku.com/) has removed the option of one free app for testing. We will try to deploy the application on a similar [Koyeb](https://www.koyeb.com/) service.\n",
    "\n",
    "\n"
   ]
  },
  {
   "cell_type": "markdown",
   "id": "b55f27c3-0aa3-4198-86b5-a29aad3b85e9",
   "metadata": {},
   "source": [
    "# Housekeeping"
   ]
  },
  {
   "cell_type": "code",
   "execution_count": 1,
   "id": "12bc081c-9992-46fc-86ad-d965fe3a292d",
   "metadata": {},
   "outputs": [],
   "source": [
    "# !pip install opencv-python\n",
    "# !pip install opencv-contrib-python\n",
    "# !pip install opencv-python-headless\n",
    "# !pip install opencv-contrib-python-headless"
   ]
  },
  {
   "cell_type": "code",
   "execution_count": 1,
   "id": "97dc774d-2d7e-4e3b-8e23-476ffc088e57",
   "metadata": {},
   "outputs": [],
   "source": [
    "import os\n",
    "os.chdir('C:\\\\Users\\\\kozl\\\\ITProjects\\\\DataScienciPython\\\\data_science_python_training\\\\lessons\\\\OpenCV\\\\lesson29\\\\coursework\\\\notebooks')"
   ]
  },
  {
   "cell_type": "code",
   "execution_count": 3,
   "id": "805eec2d-ca28-451c-835a-39f77c89e2e7",
   "metadata": {},
   "outputs": [],
   "source": [
    "# Import Libraries\n",
    "import os\n",
    "import sys\n",
    "import cv2\n",
    "import numpy as np\n",
    "import matplotlib.pyplot as plt\n",
    "\n",
    "from zipfile import ZipFile\n",
    "from urllib.request import urlretrieve\n",
    "\n",
    "from IPython.display import HTML\n",
    "from matplotlib.animation import FuncAnimation\n",
    "\n",
    "from IPython.display import YouTubeVideo, display, HTML, Video\n",
    "from base64 import b64encode\n",
    "\n",
    "%matplotlib inline"
   ]
  },
  {
   "cell_type": "markdown",
   "id": "8e047d6e-65aa-41b4-8fc3-2dc1c4b6e3a1",
   "metadata": {},
   "source": [
    "## **What is Koyeb?**\n",
    "\n",
    "<img src=\"img/koyeb01.png\" alt=\"Koyeb web\" style=\"width: 800px;\"/>\n",
    "\n",
    "Koyeb is a developer-friendly serverless platform designed to let businesses easily deploy reliable and scalable applications globally. The platform has been created by Cloud Computing Veterans\n",
    "\n",
    "and is financially backed by industry leaders.\n",
    "\n",
    "Koyeb allows you to deploy all kind of services including full web applications, APIs, and background workers.\n",
    "\n",
    "The platform provides a smooth developer experience with no cloud-specific technology. Applications can be deployed using standard Docker containers or directly from your git repositories. The platform comes with fast, continuous deployments and built-in versioning to deploy continuously and fearlessly.\n",
    "\n",
    "Koyeb provides an efficient way to run apps without the heavy-duty tasks of building resilient and scalable infrastructure. All of the services you deploy on Koyeb come with native scaling and autohealing features to completely abstract the server layer. New service deployments are dramatically simplified thanks to a full-service mesh providing secure inter-service connection and automatic service discovery.\n",
    "\n",
    "The core of the platform has been built with security and performance in mind. Applications transparently run in fast and secure Firecracker microVMs on top of bare metal servers with high-end CPUs.\n",
    "\n",
    "Applications can be deployed globally with multiples locations and the Koyeb Edge Network provides a global CDN and load balancing.\n",
    "\n",
    "We provide multiple configurations you can pick from based on the CPU and RAM requirements of your applications. We provide up to 16GB and 16 vCPU on the startup plan. Contact us if you need more!\n",
    "\n",
    "To get you easily started we provide a free Instance that you can use to deploy a web Service with 512MB of RAM, 0.1 vCPU, and 2GB of SSD."
   ]
  },
  {
   "cell_type": "markdown",
   "id": "bf299449-43d6-479b-b0a8-22c417b27718",
   "metadata": {},
   "source": [
    "## ***Create your account***\n",
    "\n",
    "<img src=\"img/koyeb02.png\" alt=\"Create account\" style=\"width: 800px;\"/>\n",
    "\n",
    "We will use the register via Github option.\n",
    "\n",
    "<img src=\"img/koyeb03.png\" alt=\"Use GitHub account\" style=\"width: 800px;\"/>\n",
    "<img src=\"img/koyeb04.png\" alt=\"Koyeb registration step 1\" style=\"width: 800px;\"/>\n",
    "<img src=\"img/koyeb05.png\" alt=\"Koyeb registration step 2\" style=\"width: 800px;\"/>"
   ]
  },
  {
   "cell_type": "markdown",
   "id": "13cef226-b553-4369-8f86-f20fbb8b3abd",
   "metadata": {},
   "source": [
    "## ***Application Deployment***\n",
    "\n",
    "<img src=\"img/koyeb06.png\" alt=\"Koyeb deployment\" style=\"width: 800px;\"/>\n",
    "\n",
    "We will select the GitHub option.\n",
    "\n",
    "<img src=\"img/koyeb07.png\" alt=\"Koyeb deployment step 1\" style=\"width: 800px;\"/>\n",
    "<img src=\"img/koyeb08.png\" alt=\"Koyeb deployment step 1\" style=\"width: 800px;\"/>\n",
    "<img src=\"img/koyeb09.png\" alt=\"Koyeb deployment step 1\" style=\"width: 800px;\"/>\n",
    "\n",
    "We select a project to deploy.\n",
    "\n",
    "<img src=\"img/koyeb10.png\" alt=\"Koyeb deployment step 1\" style=\"width: 800px;\"/>\n",
    "<img src=\"img/koyeb11.png\" alt=\"Koyeb deployment step 1\" style=\"width: 800px;\"/>\n",
    "\n",
    "Now we'll set up a few things, we'll use a ***Dockerfile*** for deployment.\n",
    "\n",
    "<img src=\"img/koyeb11_a.png\" alt=\"Koyeb deployment step 5\" style=\"width: 800px;\"/>\n",
    "<img src=\"img/koyeb11_b.png\" alt=\"Koyeb deployment step 5\" style=\"width: 800px;\"/>\n",
    "<img src=\"img/koyeb11_c.png\" alt=\"Koyeb deployment step 5\" style=\"width: 800px;\"/>\n",
    "\n",
    "Now our web application can be deployed, the application link is at the top…\n",
    "\n",
    "<img src=\"img/koyeb12.png\" alt=\"Koyeb deployment step 5\" style=\"width: 800px;\"/>"
   ]
  },
  {
   "cell_type": "markdown",
   "id": "6c702d63-129d-4be3-a83a-360214547142",
   "metadata": {},
   "source": [
    "## ***References and other materials***\n",
    "\n",
    "[Docker](https://www.docker.com/)\n",
    "\n",
    "[Koyeb](https://www.koyeb.com/)\n",
    "\n",
    "[Koyeb deploy](https://www.koyeb.com/docs/build-and-deploy/deploy-with-git)\n",
    "\n"
   ]
  },
  {
   "cell_type": "code",
   "execution_count": null,
   "id": "da2d5c80-18f3-4b6a-b527-34e7708d2a6b",
   "metadata": {},
   "outputs": [],
   "source": []
  }
 ],
 "metadata": {
  "kernelspec": {
   "display_name": "Python 3 (ipykernel)",
   "language": "python",
   "name": "python3"
  },
  "language_info": {
   "codemirror_mode": {
    "name": "ipython",
    "version": 3
   },
   "file_extension": ".py",
   "mimetype": "text/x-python",
   "name": "python",
   "nbconvert_exporter": "python",
   "pygments_lexer": "ipython3",
   "version": "3.11.4"
  }
 },
 "nbformat": 4,
 "nbformat_minor": 5
}
